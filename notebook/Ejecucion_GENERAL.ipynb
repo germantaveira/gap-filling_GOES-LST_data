{
 "cells": [
  {
   "attachments": {},
   "cell_type": "markdown",
   "id": "aca2d0bd",
   "metadata": {},
   "source": [
    "# Ejecucion general"
   ]
  },
  {
   "cell_type": "code",
   "execution_count": 4,
   "id": "428b6f78",
   "metadata": {
    "scrolled": true
   },
   "outputs": [],
   "source": [
    "import sys\n",
    "sys.path.append('../')\n",
    "from funciones_G1 import *\n",
    "from funciones_G2 import *\n",
    "from funciones_G4 import *"
   ]
  },
  {
   "cell_type": "code",
   "execution_count": 2,
   "id": "e3171ed3",
   "metadata": {},
   "outputs": [],
   "source": [
    "import datetime\n",
    "start = datetime.datetime.utcnow() - datetime.timedelta(hours=5)\n",
    "end = datetime.datetime.utcnow()"
   ]
  },
  {
   "cell_type": "code",
   "execution_count": 3,
   "id": "8598c7ed",
   "metadata": {},
   "outputs": [],
   "source": [
    "crear_carpetas() # Hay que tener el archivo aoi_shp en la carpeta /original_data/vectorial"
   ]
  },
  {
   "cell_type": "code",
   "execution_count": 4,
   "id": "a5a607fd",
   "metadata": {},
   "outputs": [
    {
     "name": "stdout",
     "output_type": "stream",
     "text": [
      "** Iniciando la descarga de GOES **\n",
      "    - Imagen del 2022-12-15 22:00 UTC+0 descargada correctamente.\n"
     ]
    }
   ],
   "source": [
    "descarga_goes(start=start, end=end)"
   ]
  },
  {
   "cell_type": "code",
   "execution_count": 5,
   "id": "68aa9573",
   "metadata": {},
   "outputs": [
    {
     "name": "stdout",
     "output_type": "stream",
     "text": [
      "[!] No hay imagenes GFS nuevas para descargar\n"
     ]
    }
   ],
   "source": [
    "descarga_gfs(start=start, end=end)"
   ]
  },
  {
   "cell_type": "code",
   "execution_count": 6,
   "id": "126d3662",
   "metadata": {},
   "outputs": [
    {
     "name": "stdout",
     "output_type": "stream",
     "text": [
      "** Inicio de procesamiento GFS **\n",
      "  - [!] No hay nuevas imagenes para procesar\n"
     ]
    }
   ],
   "source": [
    "procesamiento_gfs()"
   ]
  },
  {
   "cell_type": "code",
   "execution_count": 7,
   "id": "280f4251",
   "metadata": {},
   "outputs": [
    {
     "name": "stdout",
     "output_type": "stream",
     "text": [
      "** Inicio de procesamiento GOES **\n",
      "    - Imagen 2022-12-15 22:00 UTC+0 procesada correctamente.\n"
     ]
    }
   ],
   "source": [
    "procesamiento_goes()"
   ]
  },
  {
   "cell_type": "code",
   "execution_count": 8,
   "id": "a7c0c88b",
   "metadata": {},
   "outputs": [
    {
     "name": "stdout",
     "output_type": "stream",
     "text": [
      "*** Inicio de ProcesarPares_Mirian() ***\n",
      "Open GOES:  ../data/raw_data/work_data/GOES/GOES_ABI-L2-LSTF_JAD202234922_GAD2022121522_JL202234919_GL2022121519.tif\n",
      "Open GFS: ../data/raw_data/work_data/GFS/GFS_TATM2_M00_JAD202234922_GAD2022121522_JL202234919_GL2022121519.tif\n",
      "Inicio de Corregistro\n",
      "Inicio de Rellenado\n",
      "Carpeta OUT: ../data/out/\n",
      "SAVE 1 de 6 - Imagen GOES rellenada\n",
      "SAVE 2 de 6 - Fuente de datos\n",
      "   Corte del area de interes\n",
      "SAVE 3 de 6 - Metadato de la Goes Rellenado\n",
      "   Clasificacion de Severidad de helada\n",
      "Save 4 de 6 - Helada Recortado\n",
      "Save 5 de 6 - GOES rellenado cortado\n",
      "Save 6 de 6 - Fuente de Datos Recortado\n",
      "*** Fin de ProcesarPares_Mirian() ***\n"
     ]
    }
   ],
   "source": [
    "proceso_grupo2()"
   ]
  },
  {
   "cell_type": "code",
   "execution_count": 5,
   "id": "e5ca1a8b",
   "metadata": {},
   "outputs": [
    {
     "name": "stdout",
     "output_type": "stream",
     "text": [
      "[!] No hay imagenes nuevas para crear\n"
     ]
    }
   ],
   "source": [
    "hha()"
   ]
  }
 ],
 "metadata": {
  "kernelspec": {
   "display_name": "heladas",
   "language": "python",
   "name": "python3"
  },
  "language_info": {
   "codemirror_mode": {
    "name": "ipython",
    "version": 3
   },
   "file_extension": ".py",
   "mimetype": "text/x-python",
   "name": "python",
   "nbconvert_exporter": "python",
   "pygments_lexer": "ipython3",
   "version": "3.10.8"
  },
  "vscode": {
   "interpreter": {
    "hash": "899753f228bd9d03b9979e9f7e988e90db275faeeb2b4a08d5620203c92ffa72"
   }
  }
 },
 "nbformat": 4,
 "nbformat_minor": 5
}
