{
 "cells": [
  {
   "cell_type": "code",
   "execution_count": 23,
   "metadata": {},
   "outputs": [],
   "source": [
    "import os\n",
    "\n",
    "def renombrado_archivos(ruta):\n",
    "  archivos = []\n",
    "  for archivo in os.listdir(ruta):\n",
    "    if os.path.isfile(os.path.join(ruta, archivo)):\n",
    "        nuevo_nombre = archivo.replace(\" \", \"_\")\n",
    "        if archivo != nuevo_nombre:\n",
    "            os.rename(os.path.join(ruta, archivo), os.path.join(ruta, nuevo_nombre))\n",
    "  return\n",
    "\n",
    "\n",
    "\n",
    "####### prueba ########\n",
    "ruta = '../prueba_gisse/'\n",
    "renombrado_archivos(ruta)"
   ]
  },
  {
   "cell_type": "code",
   "execution_count": 30,
   "metadata": {},
   "outputs": [],
   "source": [
    "def renombrado_archivos_subdir(ruta):\n",
    "  archivos = []\n",
    "  for root, dirs, files in os.walk(ruta):\n",
    "    for nombre in files:\n",
    "      nuevo_nombre = nombre.replace(\" \", \"_\")\n",
    "      if nombre != nuevo_nombre:\n",
    "        os.rename(os.path.join(root, nombre), os.path.join(root, nuevo_nombre))\n",
    "  return\n",
    "\n",
    "  #### prueba ###\n",
    "ruta = '../prueba_gisse/'\n",
    "renombrado_archivos_subdir(ruta)"
   ]
  },
  {
   "cell_type": "code",
   "execution_count": 27,
   "metadata": {},
   "outputs": [
    {
     "name": "stdout",
     "output_type": "stream",
     "text": [
      "Directorio actual: ../prueba_gisse/\n",
      "Subdirectorios: ['laala']\n",
      "Archivos: ['Nuevo_Text_Document.txt', 'Nuevo_Text_Document_-_copia.txt']\n",
      "Directorio actual: ../prueba_gisse/laala\n",
      "Subdirectorios: []\n",
      "Archivos: ['Nuevo Text Document.txt']\n"
     ]
    }
   ],
   "source": [
    "for root, dirs, files in os.walk(ruta):\n",
    "    print(\"Directorio actual:\", root)\n",
    "    print(\"Subdirectorios:\", dirs)\n",
    "    print(\"Archivos:\", files)"
   ]
  },
  {
   "cell_type": "code",
   "execution_count": 32,
   "metadata": {},
   "outputs": [],
   "source": [
    "renombrado_archivos_subdir(ruta)"
   ]
  }
 ],
 "metadata": {
  "kernelspec": {
   "display_name": "heladas",
   "language": "python",
   "name": "python3"
  },
  "language_info": {
   "codemirror_mode": {
    "name": "ipython",
    "version": 3
   },
   "file_extension": ".py",
   "mimetype": "text/x-python",
   "name": "python",
   "nbconvert_exporter": "python",
   "pygments_lexer": "ipython3",
   "version": "3.10.8"
  },
  "orig_nbformat": 4,
  "vscode": {
   "interpreter": {
    "hash": "899753f228bd9d03b9979e9f7e988e90db275faeeb2b4a08d5620203c92ffa72"
   }
  }
 },
 "nbformat": 4,
 "nbformat_minor": 2
}
